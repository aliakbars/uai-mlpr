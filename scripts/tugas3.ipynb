{
 "cells": [
  {
   "cell_type": "markdown",
   "metadata": {},
   "source": [
    "# Pengenalan Pola\n",
    "\n",
    "## Tugas 3: Model Linear dan Neural Networks\n",
    "\n",
    "### Mekanisme\n",
    "\n",
    "Anda hanya diwajibkan untuk mengumpulkan file ini saja ke uploader yang disediakan di https://elearning.uai.ac.id/. Ganti nama file ini saat pengumpulan menjadi **tugas3_NIM.ipynb**.\n",
    "\n",
    "**Keterlambatan**: Pengumpulan tugas yang melebihi tenggat yang telah ditentukan tidak akan diterima. Keterlambatan akan berakibat pada nilai nol untuk tugas ini.\n",
    "\n",
    "**Kolaborasi**: Anda diperbolehkan untuk berdiskusi dengan teman Anda, tetapi dilarang keras menyalin kode maupun tulisan dari teman Anda.\n",
    "\n",
    "### Petunjuk\n",
    "\n",
    "Untuk kelancaran Anda, gunakan Python 3 dalam tugas ini. Selain itu, terdapat beberapa _packages_ yang Anda akan gunakan dalam mengerjakan tugas ini, yaitu:\n",
    "\n",
    "- jax\n",
    "- matplotlib\n",
    "- numpy\n",
    "- scikit-learn\n",
    "- tensorflow\n",
    "\n",
    "Anda diperbolehkan (jika dirasa perlu) untuk mengimpor modul tambahan untuk tugas ini. Namun, seharusnya modul yang tersedia sudah cukup untuk memenuhi kebutuhan Anda. Untuk kode yang Anda ambil dari sumber lain, **cantumkan URL menuju referensi tersebut jika diambil dari internet**!\n",
    "\n",
    "Perhatikan poin untuk tiap soal! **Semakin kecil poinnya, berarti kode yang diperlukan untuk menjawab soal tersebut seharusnya semakin sedikit!**"
   ]
  },
  {
   "cell_type": "markdown",
   "metadata": {},
   "source": [
    "### Deskripsi Dataset\n",
    "\n",
    "Dataset yang Anda akan gunakan adalah Fashion-MNIST, dataset dari Zalando yang berisi citra 10 jenis pakaian sejumlah 60,000 data latih dan 10,000 data uji. Idenya dataset ini dapat menggantikan MNIST yang sudah terlalu sering dipakai untuk AI/ML/data science.\n",
    "\n",
    "> Fashion-MNIST: a Novel Image Dataset for Benchmarking Machine Learning Algorithms. Han Xiao, Kashif Rasul, Roland Vollgraf. [arXiv:1708.07747](https://arxiv.org/abs/1708.07747)"
   ]
  },
  {
   "cell_type": "markdown",
   "metadata": {},
   "source": [
    "### Mengimpor Modul dan Dataset"
   ]
  },
  {
   "cell_type": "code",
   "execution_count": null,
   "metadata": {},
   "outputs": [],
   "source": [
    "import matplotlib.pyplot as plt\n",
    "import numpy as np\n",
    "import pandas as pd\n",
    "import seaborn as sns\n",
    "import tensorflow as tf\n",
    "\n",
    "%matplotlib inline"
   ]
  },
  {
   "cell_type": "code",
   "execution_count": null,
   "metadata": {},
   "outputs": [],
   "source": [
    "plt.rcParams['figure.figsize'] = (12.0, 7.0)"
   ]
  },
  {
   "cell_type": "code",
   "execution_count": null,
   "metadata": {},
   "outputs": [],
   "source": [
    "fashion_mnist = tf.keras.datasets.fashion_mnist"
   ]
  },
  {
   "cell_type": "code",
   "execution_count": null,
   "metadata": {},
   "outputs": [],
   "source": [
    "(X_train, y_train), (X_test, y_test) = fashion_mnist.load_data()"
   ]
  },
  {
   "cell_type": "markdown",
   "metadata": {},
   "source": [
    "## 1. Eksplorasi Awal Data (15 poin)"
   ]
  },
  {
   "cell_type": "markdown",
   "metadata": {},
   "source": [
    "### Soal 1.1 (4 poin)\n",
    "\n",
    "Untuk memudahkan tugas Anda, ambil citra dengan label 0 atau 1 saja.\n",
    "\n",
    "*Sanity check: Anda seharusnya hanya memiliki 12000 data latih dan 2000 data uji.*"
   ]
  },
  {
   "cell_type": "code",
   "execution_count": null,
   "metadata": {},
   "outputs": [],
   "source": [
    "# Kode Anda di sini"
   ]
  },
  {
   "cell_type": "markdown",
   "metadata": {},
   "source": [
    "### Soal 1.2 (2 poin)\n",
    "\n",
    "Normalisasi X_train dan X_test agar berada dalam rentang $[0,1]$."
   ]
  },
  {
   "cell_type": "code",
   "execution_count": null,
   "metadata": {},
   "outputs": [],
   "source": [
    "# Kode Anda di sini"
   ]
  },
  {
   "cell_type": "markdown",
   "metadata": {},
   "source": [
    "### Soal 1.3 (4 poin)\n",
    "\n",
    "Gambarkan 5 sampel kelas 0 dan 5 sampel kelas 1 dari data latih.\n",
    "\n",
    "*Sanity check: Kelas 0 adalah baju, kelas 1 adalah celana panjang.*"
   ]
  },
  {
   "cell_type": "code",
   "execution_count": null,
   "metadata": {},
   "outputs": [],
   "source": [
    "# Kode Anda di sini"
   ]
  },
  {
   "cell_type": "markdown",
   "metadata": {},
   "source": [
    "### Soal 1.4 (2 poin)\n",
    "\n",
    "Gambarkan rata-rata dari citra masing-masing kelas 0 dan kelas 1."
   ]
  },
  {
   "cell_type": "code",
   "execution_count": null,
   "metadata": {},
   "outputs": [],
   "source": [
    "# Kode Anda di sini"
   ]
  },
  {
   "cell_type": "markdown",
   "metadata": {},
   "source": [
    "### Soal 1.5 (3 poin)\n",
    "\n",
    "Apa yang dapat Anda simpulkan dari eksplorasi sejauh ini?"
   ]
  },
  {
   "cell_type": "markdown",
   "metadata": {},
   "source": [
    "*Jawaban Anda di sini*"
   ]
  },
  {
   "cell_type": "markdown",
   "metadata": {},
   "source": [
    "## 2. Regresi Logistik (30 poin)\n",
    "\n",
    "Anda akan mencoba membuat sendiri model regresi logistik dengan beberapa cara. Harapannya, akurasi dari berbagai model yang Anda hasilkan tidak akan berbeda jauh. Untuk memudahkan pencarian gradien, Anda akan mencoba library [JAX](https://jax.readthedocs.io/en/latest/notebooks/quickstart.html). Secara umum, komponen JAX yang digunakan di sini hanyalah implementasi NumPy di bawah JAX yang memungkinkan autograd - pencarian gradien otomatis.\n",
    "\n",
    "**Catatan: Dalam notebook ini, ada dua implementasi NumPy yang dipakai. `np` untuk NumPy asli, `numpy` untuk NumPy dari JAX. Jika implementasi diminta dalam JAX, maka akan ada tanda [JAX] di soal.**"
   ]
  },
  {
   "cell_type": "code",
   "execution_count": null,
   "metadata": {},
   "outputs": [],
   "source": [
    "from jax import numpy\n",
    "from jax import grad"
   ]
  },
  {
   "cell_type": "markdown",
   "metadata": {},
   "source": [
    "### Soal 2.1 (2 poin)\n",
    "\n",
    "Bagian penting dari regresi logistik adalah fungsi logistik atau sigmoid. Implementasikan kode dari fungsi sigmoid [JAX]. Fungsi sigmoid didefinisikan sebagai:\n",
    "\n",
    "\\begin{equation}\n",
    "\\sigma(x) = \\frac{1}{1 + \\exp(-x)} \\tag{1}\n",
    "\\end{equation}"
   ]
  },
  {
   "cell_type": "code",
   "execution_count": null,
   "metadata": {},
   "outputs": [],
   "source": [
    "def sigmoid(x):\n",
    "    # Kode Anda di sini"
   ]
  },
  {
   "cell_type": "markdown",
   "metadata": {},
   "source": [
    "### Soal 2.2 (2 poin)\n",
    "\n",
    "Definisikan fungsi untuk memprediksi $y$ berdasarkan keluaran dari fungsi sigmoid seperti rumus di bawah ini [JAX]:\n",
    "\n",
    "\\begin{equation}\n",
    "\\hat{y} = \\sigma(\\mathbf{w}^T\\mathbf{x} + b) \\tag{2}\n",
    "\\end{equation}\n",
    "\n",
    "Anda dapat menggunakan fungsi yang didefinisikan pada soal 2.1.\n",
    "\n",
    "*Perhatikan bahwa komponen bias dalam fungsi ini dipisahkan, tidak disatukan dengan vektor $\\mathbf{w}$.*"
   ]
  },
  {
   "cell_type": "code",
   "execution_count": null,
   "metadata": {},
   "outputs": [],
   "source": [
    "def predict(X, w, b):\n",
    "    # Kode Anda di sini"
   ]
  },
  {
   "cell_type": "markdown",
   "metadata": {},
   "source": [
    "### Soal 2.3.a (2 poin)\n",
    "\n",
    "Komponen penting lainnya dalam regresi logistik adalah mendefinisikan fungsi error. Dalam hal ini, Anda akan menggunakan fungsi *negative log likelihood* sebagai fungsi error, i.e. $E(\\mathbf{w}) = -\\mathcal{L}(\\mathbf{w})$. Log likelihood function didefinisikan sebagai:\n",
    "\n",
    "\\begin{equation}\n",
    "\\mathcal{L}(w) = \\sum_{i=1}^N y_i \\log \\hat{y}_i + (1-y_i) \\log (1 - \\hat{y}_i)\n",
    "\\tag{3}\n",
    "\\end{equation}\n",
    "\n",
    "Implementasikan fungsi $E(\\mathbf{w})$ [JAX]. Anda dapat memanfaatkan persamaan (2)."
   ]
  },
  {
   "cell_type": "code",
   "execution_count": null,
   "metadata": {},
   "outputs": [],
   "source": [
    "def negative_log_likelihood(X, y, w, b):\n",
    "    # Kode Anda di sini"
   ]
  },
  {
   "cell_type": "markdown",
   "metadata": {},
   "source": [
    "### Soal 2.3.b (2 poin)\n",
    "\n",
    "Kita akan mencoba membandingkan hasil dari autograd dengan implementasi manual.\n",
    "\n",
    "Turunan dari fungsi pada persamaan (3) terhadap bias adalah:\n",
    "\n",
    "\\begin{equation}\n",
    "\\frac{\\partial E}{\\partial b} = - \\sum_{i=1}^N (y_i - \\hat{y}_i)\n",
    "\\tag{4}\n",
    "\\end{equation}\n",
    "\n",
    "Implementasikan fungsi `grad_nll` di bawah ini. Kode di cell berikutnya adalah untuk membandingkan antara implementasi Anda dengan autograd dari JAX. Anda dapat memanfaatkan persamaan (2)."
   ]
  },
  {
   "cell_type": "code",
   "execution_count": null,
   "metadata": {},
   "outputs": [],
   "source": [
    "def grad_nll(X, y, w, b):\n",
    "    # Kode Anda di sini"
   ]
  },
  {
   "cell_type": "code",
   "execution_count": null,
   "metadata": {},
   "outputs": [],
   "source": [
    "# Pengujian implementasi - jangan diganti\n",
    "\n",
    "np.random.seed(42)\n",
    "\n",
    "ndim = 28*28 # dimensi gambar\n",
    "w = np.random.randn(ndim) # inisialisasi acak\n",
    "b = np.zeros(1) # inisialisasi\n",
    "\n",
    "manual_grad = grad_nll(\n",
    "    X_train.reshape(-1, ndim),\n",
    "    y_train,\n",
    "    w,\n",
    "    b\n",
    ")\n",
    "grad_loss = grad(negative_log_likelihood, 3) # grad = autograd dari JAX\n",
    "auto_grad = grad_loss(\n",
    "    X_train.reshape(-1, ndim),\n",
    "    y_train,\n",
    "    w,\n",
    "    b\n",
    ")\n",
    "# argumen \"3\" menunjukkan fungsi akan diturunkan terhadap parameter di indeks 3, yaitu b\n",
    "assert np.isclose(manual_grad, auto_grad, rtol=1e-1)\n",
    "\n",
    "# Jika tidak terjadi apa-apa, berarti implementasi Anda sudah benar"
   ]
  },
  {
   "cell_type": "markdown",
   "metadata": {},
   "source": [
    "### Soal 2.4 (5 poin)\n",
    "\n",
    "Untuk melatih regresi logistik, Anda dapat menggunakan metode *gradient descent*. Lengkapi fungsi di bawah ini."
   ]
  },
  {
   "cell_type": "code",
   "execution_count": null,
   "metadata": {},
   "outputs": [],
   "source": [
    "from tqdm import tqdm\n",
    "from sklearn.metrics import accuracy_score\n",
    "\n",
    "def fit(X, y, epoch=30, eta=1e-3):\n",
    "    np.random.seed(42)\n",
    "    n = X.shape[0] # jumlah objek\n",
    "    ndim = X.reshape(n, -1).shape[1] # jumlah atribut\n",
    "    w = np.random.randn(ndim) # inisialisasi\n",
    "    b = np.ones(1) # inisialisasi\n",
    "    grad_loss_w = ... # implementasikan dengan memanfaatkan autograd\n",
    "    grad_loss_b = ... # implementasikan dengan memanfaatkan autograd\n",
    "    \n",
    "    accs = []\n",
    "    losses = []\n",
    "    for i in tqdm(range(epoch)):\n",
    "        y_pred = ... # gunakan fungsi dari persamaan (2)\n",
    "        acc = accuracy_score(y, y_pred >= .5)\n",
    "        loss = negative_log_likelihood(X, y, w, b)\n",
    "        accs.append(acc)\n",
    "        losses.append(loss)\n",
    "        \n",
    "        # implementasikan perbaikan nilai w dan b\n",
    "        # kode Anda di sini\n",
    "    \n",
    "    return w, b, accs, losses"
   ]
  },
  {
   "cell_type": "markdown",
   "metadata": {},
   "source": [
    "### Soal 2.5.a (2 poin)\n",
    "\n",
    "Berdasarkan soal 1.4, Anda dapat melihat bahwa kedua citra rata-rata memiliki perbedaan di koordinat (25,13) dan (25,14). Implementasi soal 2.4 di atas belum memasukkan regularisasi, jadi mungkin akan gagal dengan jumlah parameter yang banyak. Oleh karena itu, kita akan pakai sampel atribut (25, 13) dan (25, 14) saja.\n",
    "\n",
    "Latihlah model dengan `X_sample` menggunakan fungsi `fit` dari soal 2.4."
   ]
  },
  {
   "cell_type": "code",
   "execution_count": null,
   "metadata": {},
   "outputs": [],
   "source": [
    "X_sample = X_train[:,25,13:15]\n",
    "X_sample_test = X_test[:,25,13:15]\n",
    "# Kode Anda di sini"
   ]
  },
  {
   "cell_type": "markdown",
   "metadata": {},
   "source": [
    "### Soal 2.5.b (4 poin)\n",
    "\n",
    "Gambarkan learning curve dari error dan akurasi dalam dua grafik bersebelahan."
   ]
  },
  {
   "cell_type": "code",
   "execution_count": null,
   "metadata": {},
   "outputs": [],
   "source": [
    "# Kode Anda di sini"
   ]
  },
  {
   "cell_type": "markdown",
   "metadata": {},
   "source": [
    "### Soal 2.5.c (2 poin)\n",
    "\n",
    "Prediksi nilai `y` dari `X_sample_test` memanfaatkan nilai `w` dan `b` yang telah Anda dapatkan dari melatih model. Hitunglah akurasinya."
   ]
  },
  {
   "cell_type": "code",
   "execution_count": null,
   "metadata": {},
   "outputs": [],
   "source": [
    "# Kode Anda di sini"
   ]
  },
  {
   "cell_type": "markdown",
   "metadata": {},
   "source": [
    "### Soal 2.5.d (2 poin)\n",
    "\n",
    "Bandingkan hasil yang Anda dapatkan di soal 2.5.c dengan implementasi `SGDClassifier` dari scikit-learn. Gunakan `X_sample` dan `X_sample_test`. Gunakan `loss='log'` sebagai parameter dari `SGDClassifier`. Hitung akurasi pada data uji."
   ]
  },
  {
   "cell_type": "code",
   "execution_count": null,
   "metadata": {},
   "outputs": [],
   "source": [
    "from sklearn.linear_model import SGDClassifier\n",
    "\n",
    "# Kode Anda di sini"
   ]
  },
  {
   "cell_type": "markdown",
   "metadata": {},
   "source": [
    "### Soal 2.6 (2 poin)\n",
    "\n",
    "Agar Anda dapat membandingkan dengan model regresi logistik yang dioptimasi untuk banyak parameter, coba lakukan klasifikasi dengan `X_train` dan `X_test`."
   ]
  },
  {
   "cell_type": "code",
   "execution_count": null,
   "metadata": {},
   "outputs": [],
   "source": [
    "# Kode Anda di sini"
   ]
  },
  {
   "cell_type": "markdown",
   "metadata": {},
   "source": [
    "### Soal 2.7 (5 poin)\n",
    "\n",
    "Berikan kesimpulan Anda dari eksperimen sejauh ini."
   ]
  },
  {
   "cell_type": "markdown",
   "metadata": {},
   "source": [
    "*Jawaban Anda di sini*"
   ]
  },
  {
   "cell_type": "markdown",
   "metadata": {},
   "source": [
    "## 3. Neural Networks (5 poin)\n",
    "\n",
    "Dapatkah kita menghasilkan model yang lebih baik dengan menambah kompleksitasnya?"
   ]
  },
  {
   "cell_type": "markdown",
   "metadata": {},
   "source": [
    "### Soal 3.1 (2 poin)\n",
    "\n",
    "Dengan memanfaatkan `tf.keras`, buatlah model **regresi logistik**. Anda dapat melihat referensi di [tutorial ini](https://www.tensorflow.org/tutorials/keras/classification)."
   ]
  },
  {
   "cell_type": "code",
   "execution_count": null,
   "metadata": {},
   "outputs": [],
   "source": [
    "def build_model():\n",
    "    # Kode Anda di sini\n",
    "    return model"
   ]
  },
  {
   "cell_type": "markdown",
   "metadata": {},
   "source": [
    "### Soal 3.2 (3 poin)\n",
    "\n",
    "Latihlah model Anda dan hitung akurasinya."
   ]
  },
  {
   "cell_type": "code",
   "execution_count": null,
   "metadata": {},
   "outputs": [],
   "source": [
    "np.random.seed(42)\n",
    "\n",
    "model = build_model()\n",
    "# Kode Anda di sini"
   ]
  },
  {
   "cell_type": "markdown",
   "metadata": {},
   "source": [
    "### Soal 3.3 (Bonus: 5 poin)\n",
    "\n",
    "Apakah Anda dapat membuat model neural networks yang lebih baik? Gambarkan *learning curve*-nya juga."
   ]
  },
  {
   "cell_type": "code",
   "execution_count": null,
   "metadata": {},
   "outputs": [],
   "source": [
    "def build_nets():\n",
    "    # Kode Anda di sini\n",
    "    return model"
   ]
  },
  {
   "cell_type": "code",
   "execution_count": null,
   "metadata": {},
   "outputs": [],
   "source": [
    "np.random.seed(42)\n",
    "\n",
    "model = build_nets()\n",
    "# Kode Anda di sini"
   ]
  }
 ],
 "metadata": {
  "kernelspec": {
   "display_name": "Python 3",
   "language": "python",
   "name": "python3"
  },
  "language_info": {
   "codemirror_mode": {
    "name": "ipython",
    "version": 3
   },
   "file_extension": ".py",
   "mimetype": "text/x-python",
   "name": "python",
   "nbconvert_exporter": "python",
   "pygments_lexer": "ipython3",
   "version": "3.7.7"
  }
 },
 "nbformat": 4,
 "nbformat_minor": 2
}
