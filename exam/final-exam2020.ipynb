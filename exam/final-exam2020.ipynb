{
 "cells": [
  {
   "cell_type": "markdown",
   "metadata": {},
   "source": [
    "# Pengenalan Pola\n",
    "\n",
    "## Ujian Akhir Semester\n",
    "\n",
    "### Mekanisme\n",
    "\n",
    "Anda hanya diwajibkan untuk mengumpulkan file ini saja ke uploader yang disediakan di https://elearning.uai.ac.id/. Ganti nama file ini saat pengumpulan menjadi **uas_NIM.ipynb**.\n",
    "\n",
    "**Keterlambatan**: Pengumpulan ujian yang melebihi tenggat yang telah ditentukan tidak akan diterima. Keterlambatan akan berakibat pada nilai nol untuk ujian ini.\n",
    "\n",
    "**Kolaborasi**: Anda tidak diperbolehkan untuk berdiskusi dengan teman Anda. Dilarang keras menyalin kode maupun tulisan dari teman Anda. Kecurangan akan berakibat pada nilai nol untuk ujian ini.\n",
    "\n",
    "### Petunjuk\n",
    "\n",
    "Untuk kelancaran Anda, gunakan Python 3 dalam ujian ini. Anda diperbolehkan (jika dirasa perlu) untuk mengimpor modul tambahan untuk tugas ini. Namun, seharusnya modul yang tersedia sudah cukup untuk memenuhi kebutuhan Anda. Untuk kode yang Anda ambil dari sumber lain, **cantumkan URL menuju referensi tersebut jika diambil dari internet**!"
   ]
  },
  {
   "cell_type": "markdown",
   "metadata": {},
   "source": [
    "## ML from Scratch\n",
    "\n",
    "### 1. k-NN [20 poin]\n",
    "\n",
    "Implementasikan algoritma **k-Nearest Neighbors dari awal** memanfaatkan library **NumPy dan SciPy**. Implementasi boleh dalam bentuk kelas maupun fungsi. Anda tidak diperkenankan menggunakan scikit-learn untuk implementasi tersebut. Beberapa poin yang akan menjadi penilaian:\n",
    "\n",
    "1. Harus dapat dijalankan minimal menggunakan dataset `mpg`, sangat baik jika bisa menggunakan MNIST\n",
    "2. Memungkinkan untuk berbagai nilai k\n",
    "3. Dapat menggunakan berbagai jenis pengukuran jarak [Petunjuk: Periksa dokumentasi SciPy]\n",
    "4. Dapat digunakan untuk regresi dan klasifikasi [Petunjuk: Anda mungkin perlu dua fungsi yang berbeda]\n",
    "5. Implementasi vectorized lebih diutamakan daripada for-loop\n",
    "\n",
    "Tunjukkan hasil pengujian Anda dan bandingkan dengan hasil dari scikit-learn."
   ]
  },
  {
   "cell_type": "markdown",
   "metadata": {},
   "source": [
    "### 2. k-Means [20 poin]\n",
    "\n",
    "Memanfaatkan EM algorithm seperti halnya di Gaussian Mixture Models, implementasikan **k-Means dari awal** memanfaatkan library **NumPy dan SciPy**. Implementasi boleh dalam bentuk kelas maupun fungsi. Anda tidak diperkenankan menggunakan scikit-learn untuk implementasi tersebut. Beberapa poin yang akan menjadi penilaian:\n",
    "\n",
    "1. Harus dapat dijalankan minimal menggunakan dataset `mpg`, sangat baik jika bisa menggunakan MNIST\n",
    "2. Dapat mengeluarkan nilai agregat jarak intraklaster\n",
    "3. Kriteria konvergensi berupa toleransi perubahan nilai centroid\n",
    "4. Inisialisasi centroid bisa random atau berupa masukan dari user\n",
    "5. Implementasi vectorized lebih diutamakan daripada for-loop\n",
    "\n",
    "Bandingkan hasil klastering implementasi Anda dengan scikit-learn di akhir."
   ]
  },
  {
   "cell_type": "code",
   "execution_count": 1,
   "metadata": {},
   "outputs": [],
   "source": [
    "import matplotlib.pyplot as plt\n",
    "import numpy as np\n",
    "import pandas as pd\n",
    "import seaborn as sns\n",
    "%matplotlib inline\n",
    "\n",
    "RANDOM_STATE = 1337\n",
    "np.random.seed(RANDOM_STATE)"
   ]
  },
  {
   "cell_type": "code",
   "execution_count": 3,
   "metadata": {},
   "outputs": [],
   "source": [
    "df = sns.load_dataset('mpg')"
   ]
  }
 ],
 "metadata": {
  "kernelspec": {
   "display_name": "Python 3",
   "language": "python",
   "name": "python3"
  },
  "language_info": {
   "codemirror_mode": {
    "name": "ipython",
    "version": 3
   },
   "file_extension": ".py",
   "mimetype": "text/x-python",
   "name": "python",
   "nbconvert_exporter": "python",
   "pygments_lexer": "ipython3",
   "version": "3.7.7"
  }
 },
 "nbformat": 4,
 "nbformat_minor": 4
}
